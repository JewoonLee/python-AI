{
 "cells": [
  {
   "cell_type": "code",
   "execution_count": 2,
   "id": "5a93b3c8",
   "metadata": {},
   "outputs": [
    {
     "name": "stdout",
     "output_type": "stream",
     "text": [
      "one two\n",
      "one two\n",
      "1 2\n",
      "1 2\n"
     ]
    }
   ],
   "source": [
    "print('%s %s' %('one','two'))\n",
    "print('{} {}'.format('one','two'))\n",
    "print('%s %s' %(1,2))\n",
    "print('{} {}'.format(1,2))\n"
   ]
  },
  {
   "cell_type": "code",
   "execution_count": 5,
   "id": "689ba6ad",
   "metadata": {},
   "outputs": [
    {
     "name": "stdout",
     "output_type": "stream",
     "text": [
      "jewoon\n",
      "a\n",
      "plz\n",
      "5 jewoon\n"
     ]
    }
   ],
   "source": [
    "print('%s' %(\"jewoon\"))\n",
    "a='plz'\n",
    "print('%s' %\"a\")\n",
    "print('%s'%(a))\n",
    "print('%d %s' %(5,\"jewoon\"))\n",
    "\n"
   ]
  },
  {
   "cell_type": "code",
   "execution_count": 7,
   "id": "a5c47336",
   "metadata": {},
   "outputs": [
    {
     "name": "stdout",
     "output_type": "stream",
     "text": [
      "Hello, jewoonlee. your age is         24\n"
     ]
    }
   ],
   "source": [
    "name=\"jewoonlee\"\n",
    "age=24\n",
    "print(f\"Hello, {name}. your age is {age:10d}\")"
   ]
  }
 ],
 "metadata": {
  "kernelspec": {
   "display_name": "Python 3 (ipykernel)",
   "language": "python",
   "name": "python3"
  },
  "language_info": {
   "codemirror_mode": {
    "name": "ipython",
    "version": 3
   },
   "file_extension": ".py",
   "mimetype": "text/x-python",
   "name": "python",
   "nbconvert_exporter": "python",
   "pygments_lexer": "ipython3",
   "version": "3.8.10"
  }
 },
 "nbformat": 4,
 "nbformat_minor": 5
}
